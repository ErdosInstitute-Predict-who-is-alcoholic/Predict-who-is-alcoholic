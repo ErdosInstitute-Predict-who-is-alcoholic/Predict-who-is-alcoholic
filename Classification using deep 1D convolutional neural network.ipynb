{
 "cells": [
  {
   "cell_type": "code",
   "execution_count": 25,
   "metadata": {},
   "outputs": [],
   "source": [
    "## Import packages needed for this script \n",
    "import numpy as np\n",
    "import pandas as pd \n",
    "import matplotlib.pyplot as plt"
   ]
  },
  {
   "cell_type": "code",
   "execution_count": 2,
   "metadata": {},
   "outputs": [
    {
     "data": {
      "text/plain": [
       "((600, 65, 256), (600,), (600,))"
      ]
     },
     "execution_count": 2,
     "metadata": {},
     "output_type": "execute_result"
    }
   ],
   "source": [
    "# load arrays\n",
    "path='/Users/aazeez/Documents/Personal/erdosbootcamp/Project'\n",
    "\n",
    "epochs_array = np.load(path+'/data_array.npy') \n",
    "epochs_label= np.load(path+'/label_array.npy')\n",
    "group_array= np.load(path+'/group_array.npy')\n",
    "\n",
    "epochs_array.shape, epochs_label.shape, group_array.shape"
   ]
  },
  {
   "cell_type": "code",
   "execution_count": 3,
   "metadata": {},
   "outputs": [
    {
     "data": {
      "text/plain": [
       "(600, 256, 65)"
      ]
     },
     "execution_count": 3,
     "metadata": {},
     "output_type": "execute_result"
    }
   ],
   "source": [
    "epochs_array=np.moveaxis(epochs_array,1,2)\n",
    "epochs_array.shape"
   ]
  },
  {
   "cell_type": "code",
   "execution_count": 4,
   "metadata": {},
   "outputs": [],
   "source": [
    "from tensorflow.keras.layers import Conv1D, BatchNormalization, LeakyReLU, MaxPool1D,\\\n",
    "GlobalAveragePooling1D, Dense, Dropout, AveragePooling1D\n",
    "from tensorflow.keras.models import Sequential\n",
    "from tensorflow.keras.backend import clear_session\n",
    "\n",
    "def cnnmodel():\n",
    "    clear_session()\n",
    "    model=Sequential()\n",
    "    model.add(Conv1D(filters=5, kernel_size=3, strides=1, input_shape=(256,65))) ###1\n",
    "    model.add(BatchNormalization())\n",
    "    model.add(LeakyReLU())\n",
    "    model.add(MaxPool1D(pool_size=2, strides=2)) ##2\n",
    "    model.add(Conv1D(filters=5, kernel_size=3, strides=1)) #3\n",
    "    model.add(LeakyReLU())\n",
    "    model.add(MaxPool1D(pool_size=2, strides=2)) ##4\n",
    "    model.add(Dropout(0.5))\n",
    "    model.add(Conv1D(filters=5, kernel_size=3, strides=1)) #5\n",
    "    model.add(LeakyReLU())\n",
    "    model.add(AveragePooling1D(pool_size=2, strides=2)) ##6\n",
    "    model.add(Dropout(0.5))\n",
    "    model.add(Conv1D(filters=5, kernel_size=3, strides=1)) ##7\n",
    "    model.add(LeakyReLU())\n",
    "    model.add(AveragePooling1D(pool_size=2, strides=2)) ##8\n",
    "    model.add(Conv1D(filters=5, kernel_size=3, strides=1)) ##9\n",
    "    model.add(LeakyReLU())\n",
    "    model.add(GlobalAveragePooling1D()) #10\n",
    "    model.add(Dense(1, activation='sigmoid')) #11\n",
    "    \n",
    "    model.compile('adam', loss='binary_crossentropy', metrics=['accuracy'])\n",
    "    \n",
    "    return model"
   ]
  },
  {
   "cell_type": "code",
   "execution_count": 5,
   "metadata": {},
   "outputs": [
    {
     "name": "stdout",
     "output_type": "stream",
     "text": [
      "Model: \"sequential\"\n",
      "_________________________________________________________________\n",
      "Layer (type)                 Output Shape              Param #   \n",
      "=================================================================\n",
      "conv1d (Conv1D)              (None, 254, 5)            980       \n",
      "_________________________________________________________________\n",
      "batch_normalization (BatchNo (None, 254, 5)            20        \n",
      "_________________________________________________________________\n",
      "leaky_re_lu (LeakyReLU)      (None, 254, 5)            0         \n",
      "_________________________________________________________________\n",
      "max_pooling1d (MaxPooling1D) (None, 127, 5)            0         \n",
      "_________________________________________________________________\n",
      "conv1d_1 (Conv1D)            (None, 125, 5)            80        \n",
      "_________________________________________________________________\n",
      "leaky_re_lu_1 (LeakyReLU)    (None, 125, 5)            0         \n",
      "_________________________________________________________________\n",
      "max_pooling1d_1 (MaxPooling1 (None, 62, 5)             0         \n",
      "_________________________________________________________________\n",
      "dropout (Dropout)            (None, 62, 5)             0         \n",
      "_________________________________________________________________\n",
      "conv1d_2 (Conv1D)            (None, 60, 5)             80        \n",
      "_________________________________________________________________\n",
      "leaky_re_lu_2 (LeakyReLU)    (None, 60, 5)             0         \n",
      "_________________________________________________________________\n",
      "average_pooling1d (AveragePo (None, 30, 5)             0         \n",
      "_________________________________________________________________\n",
      "dropout_1 (Dropout)          (None, 30, 5)             0         \n",
      "_________________________________________________________________\n",
      "conv1d_3 (Conv1D)            (None, 28, 5)             80        \n",
      "_________________________________________________________________\n",
      "leaky_re_lu_3 (LeakyReLU)    (None, 28, 5)             0         \n",
      "_________________________________________________________________\n",
      "average_pooling1d_1 (Average (None, 14, 5)             0         \n",
      "_________________________________________________________________\n",
      "conv1d_4 (Conv1D)            (None, 12, 5)             80        \n",
      "_________________________________________________________________\n",
      "leaky_re_lu_4 (LeakyReLU)    (None, 12, 5)             0         \n",
      "_________________________________________________________________\n",
      "global_average_pooling1d (Gl (None, 5)                 0         \n",
      "_________________________________________________________________\n",
      "dense (Dense)                (None, 1)                 6         \n",
      "=================================================================\n",
      "Total params: 1,326\n",
      "Trainable params: 1,316\n",
      "Non-trainable params: 10\n",
      "_________________________________________________________________\n"
     ]
    }
   ],
   "source": [
    "model = cnnmodel()\n",
    "model.summary()"
   ]
  },
  {
   "cell_type": "code",
   "execution_count": 6,
   "metadata": {},
   "outputs": [],
   "source": [
    "from sklearn.model_selection import GroupKFold, LeaveOneGroupOut\n",
    "from sklearn.preprocessing import StandardScaler\n",
    "gkf=GroupKFold()"
   ]
  },
  {
   "cell_type": "code",
   "execution_count": 138,
   "metadata": {},
   "outputs": [
    {
     "name": "stdout",
     "output_type": "stream",
     "text": [
      "Epoch 1/10\n",
      "48/48 [==============================] - 1s 13ms/step - loss: 0.7001 - accuracy: 0.5483 - val_loss: 0.7983 - val_accuracy: 0.4167\n",
      "Epoch 2/10\n",
      "48/48 [==============================] - 0s 7ms/step - loss: 0.6020 - accuracy: 0.7164 - val_loss: 0.7353 - val_accuracy: 0.4417\n",
      "Epoch 3/10\n",
      "48/48 [==============================] - 0s 7ms/step - loss: 0.4430 - accuracy: 0.8433 - val_loss: 0.9011 - val_accuracy: 0.4000\n",
      "Epoch 4/10\n",
      "48/48 [==============================] - 0s 6ms/step - loss: 0.2970 - accuracy: 0.8633 - val_loss: 0.9437 - val_accuracy: 0.3667\n",
      "Epoch 5/10\n",
      "48/48 [==============================] - 0s 6ms/step - loss: 0.1881 - accuracy: 0.9208 - val_loss: 1.0044 - val_accuracy: 0.4250\n",
      "Epoch 6/10\n",
      "48/48 [==============================] - 0s 6ms/step - loss: 0.2038 - accuracy: 0.9218 - val_loss: 1.0670 - val_accuracy: 0.4417\n",
      "Epoch 7/10\n",
      "48/48 [==============================] - 0s 7ms/step - loss: 0.1427 - accuracy: 0.9556 - val_loss: 1.3630 - val_accuracy: 0.4000\n",
      "Epoch 8/10\n",
      "48/48 [==============================] - 0s 7ms/step - loss: 0.1279 - accuracy: 0.9492 - val_loss: 1.5254 - val_accuracy: 0.4000\n",
      "Epoch 9/10\n",
      "48/48 [==============================] - 0s 6ms/step - loss: 0.1166 - accuracy: 0.9425 - val_loss: 1.3674 - val_accuracy: 0.4250\n",
      "Epoch 10/10\n",
      "48/48 [==============================] - 0s 6ms/step - loss: 0.1661 - accuracy: 0.9360 - val_loss: 1.1622 - val_accuracy: 0.5167\n",
      "4/4 [==============================] - 0s 3ms/step - loss: 1.1622 - accuracy: 0.5167\n",
      "\n",
      "Accuracy: 10 10 0.5166666507720947\n",
      "Epoch 1/10\n",
      "48/48 [==============================] - 1s 11ms/step - loss: 0.6547 - accuracy: 0.6614 - val_loss: 0.7135 - val_accuracy: 0.4083\n",
      "Epoch 2/10\n",
      "48/48 [==============================] - 0s 7ms/step - loss: 0.4664 - accuracy: 0.7957 - val_loss: 0.8803 - val_accuracy: 0.4667\n",
      "Epoch 3/10\n",
      "48/48 [==============================] - 0s 6ms/step - loss: 0.2838 - accuracy: 0.9079 - val_loss: 0.7720 - val_accuracy: 0.5917\n",
      "Epoch 4/10\n",
      "48/48 [==============================] - 0s 6ms/step - loss: 0.2762 - accuracy: 0.8783 - val_loss: 1.1291 - val_accuracy: 0.4917\n",
      "Epoch 5/10\n",
      "48/48 [==============================] - 0s 6ms/step - loss: 0.2445 - accuracy: 0.9054 - val_loss: 1.2137 - val_accuracy: 0.4333\n",
      "Epoch 6/10\n",
      "48/48 [==============================] - 0s 6ms/step - loss: 0.2504 - accuracy: 0.9005 - val_loss: 1.4644 - val_accuracy: 0.3833\n",
      "Epoch 7/10\n",
      "48/48 [==============================] - 0s 6ms/step - loss: 0.1545 - accuracy: 0.9588 - val_loss: 1.2032 - val_accuracy: 0.4333\n",
      "Epoch 8/10\n",
      "48/48 [==============================] - 0s 6ms/step - loss: 0.1894 - accuracy: 0.9082 - val_loss: 1.6886 - val_accuracy: 0.3500\n",
      "Epoch 9/10\n",
      "48/48 [==============================] - 1s 22ms/step - loss: 0.1780 - accuracy: 0.9301 - val_loss: 2.0797 - val_accuracy: 0.3083\n",
      "Epoch 10/10\n",
      "48/48 [==============================] - 0s 6ms/step - loss: 0.1780 - accuracy: 0.9319 - val_loss: 2.1029 - val_accuracy: 0.3500\n",
      "4/4 [==============================] - 0s 3ms/step - loss: 2.1029 - accuracy: 0.3500\n",
      "\n",
      "Accuracy: 10 10 0.4333333224058151\n",
      "Epoch 1/10\n",
      "48/48 [==============================] - 1s 10ms/step - loss: 0.6845 - accuracy: 0.5057 - val_loss: 0.5485 - val_accuracy: 0.9167\n",
      "Epoch 2/10\n",
      "48/48 [==============================] - 0s 6ms/step - loss: 0.6096 - accuracy: 0.6962 - val_loss: 0.4095 - val_accuracy: 0.8583\n",
      "Epoch 3/10\n",
      "48/48 [==============================] - 0s 6ms/step - loss: 0.4255 - accuracy: 0.8380 - val_loss: 0.3370 - val_accuracy: 0.8583\n",
      "Epoch 4/10\n",
      "48/48 [==============================] - 0s 6ms/step - loss: 0.2722 - accuracy: 0.9337 - val_loss: 0.6760 - val_accuracy: 0.6917\n",
      "Epoch 5/10\n",
      "48/48 [==============================] - 0s 6ms/step - loss: 0.2925 - accuracy: 0.8737 - val_loss: 0.4828 - val_accuracy: 0.8250\n",
      "Epoch 6/10\n",
      "48/48 [==============================] - 0s 7ms/step - loss: 0.1570 - accuracy: 0.9365 - val_loss: 1.0881 - val_accuracy: 0.7417\n",
      "Epoch 7/10\n",
      "48/48 [==============================] - 0s 6ms/step - loss: 0.1903 - accuracy: 0.9286 - val_loss: 0.7806 - val_accuracy: 0.7000\n",
      "Epoch 8/10\n",
      "48/48 [==============================] - 0s 7ms/step - loss: 0.1926 - accuracy: 0.9231 - val_loss: 0.7987 - val_accuracy: 0.6667\n",
      "Epoch 9/10\n",
      "48/48 [==============================] - 0s 6ms/step - loss: 0.1616 - accuracy: 0.9374 - val_loss: 1.2418 - val_accuracy: 0.6083\n",
      "Epoch 10/10\n",
      "48/48 [==============================] - 0s 6ms/step - loss: 0.1814 - accuracy: 0.9486 - val_loss: 1.2107 - val_accuracy: 0.6917\n",
      "4/4 [==============================] - 0s 4ms/step - loss: 1.2107 - accuracy: 0.6917\n",
      "\n",
      "Accuracy: 10 10 0.5194444358348846\n",
      "Epoch 1/10\n",
      "48/48 [==============================] - 1s 10ms/step - loss: 0.6893 - accuracy: 0.5228 - val_loss: 0.6802 - val_accuracy: 0.5583\n",
      "Epoch 2/10\n",
      "48/48 [==============================] - 0s 6ms/step - loss: 0.5801 - accuracy: 0.7553 - val_loss: 0.7851 - val_accuracy: 0.5500\n",
      "Epoch 3/10\n",
      "48/48 [==============================] - 0s 6ms/step - loss: 0.3591 - accuracy: 0.8582 - val_loss: 1.1575 - val_accuracy: 0.6083\n",
      "Epoch 4/10\n",
      "48/48 [==============================] - 0s 6ms/step - loss: 0.2314 - accuracy: 0.9113 - val_loss: 1.4675 - val_accuracy: 0.6500\n",
      "Epoch 5/10\n",
      "48/48 [==============================] - 0s 7ms/step - loss: 0.1950 - accuracy: 0.9268 - val_loss: 1.6845 - val_accuracy: 0.6417\n",
      "Epoch 6/10\n",
      "48/48 [==============================] - 0s 6ms/step - loss: 0.1942 - accuracy: 0.9200 - val_loss: 1.8036 - val_accuracy: 0.6417\n",
      "Epoch 7/10\n",
      "48/48 [==============================] - 0s 7ms/step - loss: 0.1745 - accuracy: 0.9176 - val_loss: 1.6829 - val_accuracy: 0.5833\n",
      "Epoch 8/10\n",
      "48/48 [==============================] - 0s 6ms/step - loss: 0.1638 - accuracy: 0.9314 - val_loss: 1.8808 - val_accuracy: 0.5833\n",
      "Epoch 9/10\n",
      "48/48 [==============================] - 0s 5ms/step - loss: 0.1671 - accuracy: 0.9341 - val_loss: 1.5187 - val_accuracy: 0.5917\n",
      "Epoch 10/10\n",
      "48/48 [==============================] - 0s 6ms/step - loss: 0.1661 - accuracy: 0.9455 - val_loss: 1.6997 - val_accuracy: 0.6000\n",
      "4/4 [==============================] - 0s 4ms/step - loss: 1.6997 - accuracy: 0.6000\n",
      "\n",
      "Accuracy: 10 10 0.539583332836628\n",
      "Epoch 1/10\n",
      "48/48 [==============================] - 1s 11ms/step - loss: 0.6906 - accuracy: 0.5278 - val_loss: 0.6811 - val_accuracy: 0.6000\n",
      "Epoch 2/10\n",
      "48/48 [==============================] - 0s 7ms/step - loss: 0.6402 - accuracy: 0.6987 - val_loss: 0.5997 - val_accuracy: 0.7000\n",
      "Epoch 3/10\n",
      "48/48 [==============================] - 0s 6ms/step - loss: 0.4349 - accuracy: 0.7914 - val_loss: 0.3833 - val_accuracy: 0.8417\n",
      "Epoch 4/10\n",
      "48/48 [==============================] - 0s 5ms/step - loss: 0.3264 - accuracy: 0.8462 - val_loss: 0.4832 - val_accuracy: 0.7583\n",
      "Epoch 5/10\n",
      "48/48 [==============================] - 0s 7ms/step - loss: 0.3438 - accuracy: 0.8535 - val_loss: 0.3561 - val_accuracy: 0.8750\n",
      "Epoch 6/10\n",
      "48/48 [==============================] - 0s 6ms/step - loss: 0.2457 - accuracy: 0.8844 - val_loss: 0.3124 - val_accuracy: 0.8917\n",
      "Epoch 7/10\n",
      "48/48 [==============================] - 0s 6ms/step - loss: 0.2041 - accuracy: 0.9150 - val_loss: 0.3431 - val_accuracy: 0.8667\n",
      "Epoch 8/10\n",
      "48/48 [==============================] - 1s 13ms/step - loss: 0.2143 - accuracy: 0.9184 - val_loss: 0.3970 - val_accuracy: 0.8500\n",
      "Epoch 9/10\n",
      "48/48 [==============================] - 0s 7ms/step - loss: 0.2299 - accuracy: 0.9086 - val_loss: 0.3692 - val_accuracy: 0.8417\n",
      "Epoch 10/10\n",
      "48/48 [==============================] - 0s 6ms/step - loss: 0.1730 - accuracy: 0.9467 - val_loss: 0.2940 - val_accuracy: 0.8583\n",
      "4/4 [==============================] - 0s 4ms/step - loss: 0.2940 - accuracy: 0.8583\n",
      "\n",
      "Accuracy: 10 10 0.6033333361148834\n"
     ]
    }
   ],
   "source": [
    "accuracy=[]#np.array((5,len(range(1,100))))#[]\n",
    "e=10\n",
    "b=10\n",
    "# for b in np.linspace(1, 10, num=10):\n",
    "#     for e in np.linspace(1, 10, num=10):\n",
    "for train_index, val_index in gkf.split(epochs_array, epochs_label, groups=group_array):\n",
    "    train_features, train_labels = epochs_array[train_index], epochs_label[train_index]\n",
    "    val_features, val_labels = epochs_array[val_index], epochs_label[val_index]\n",
    "\n",
    "    scaler=StandardScaler()\n",
    "    train_features=scaler.fit_transform(train_features.reshape(-1,\\\n",
    "                    train_features.shape[-1])).reshape(train_features.shape)\n",
    "    val_features=scaler.transform(val_features.reshape(-1,\\\n",
    "                    val_features.shape[-1])).reshape(val_features.shape)\n",
    "\n",
    "    model=cnnmodel()\n",
    "    history=model.fit(train_features, train_labels, epochs=int(e), batch_size=int(b), validation_data=(val_features, val_labels))\n",
    "    accuracy.append(model.evaluate(val_features, val_labels)[1])\n",
    "    print()\n",
    "    print('Accuracy:',b, e, np.mean(accuracy))\n",
    "\n"
   ]
  },
  {
   "cell_type": "code",
   "execution_count": 139,
   "metadata": {},
   "outputs": [
    {
     "data": {
      "text/plain": [
       "[0.5166666507720947,\n",
       " 0.3499999940395355,\n",
       " 0.6916666626930237,\n",
       " 0.6000000238418579,\n",
       " 0.8583333492279053]"
      ]
     },
     "execution_count": 139,
     "metadata": {},
     "output_type": "execute_result"
    }
   ],
   "source": [
    "accuracy"
   ]
  },
  {
   "cell_type": "code",
   "execution_count": 140,
   "metadata": {},
   "outputs": [
    {
     "data": {
      "text/plain": [
       "0.6033333361148834"
      ]
     },
     "execution_count": 140,
     "metadata": {},
     "output_type": "execute_result"
    }
   ],
   "source": [
    "np.mean(accuracy)\n",
    "# 10:0.6050000071525574\n",
    "#15:0.5699999988079071\n",
    "#e=3 b=10 0.698333328962326\n",
    "#e=2 b=4 0.673333328962326\n",
    "#e=3 b=4 0.6866666674613953\n",
    "# e=2b=6 0.7183333456516265\n"
   ]
  },
  {
   "cell_type": "code",
   "execution_count": 68,
   "metadata": {},
   "outputs": [],
   "source": [
    "# 40=71\n",
    "# 30=69\n",
    "# 35=61"
   ]
  },
  {
   "cell_type": "code",
   "execution_count": 141,
   "metadata": {},
   "outputs": [],
   "source": [
    "history_dict = history.history\n",
    "# history_dict"
   ]
  },
  {
   "cell_type": "code",
   "execution_count": 142,
   "metadata": {},
   "outputs": [
    {
     "data": {
      "image/png": "[encoded data removed]",
      "text/plain": [
       "<Figure size 720x432 with 1 Axes>"
      ]
     },
     "metadata": {
      "needs_background": "light"
     },
     "output_type": "display_data"
    },
    {
     "data": {
      "image/png": "[encoded data removed]",
      "text/plain": [
       "<Figure size 720x432 with 1 Axes>"
      ]
     },
     "metadata": {
      "needs_background": "light"
     },
     "output_type": "display_data"
    }
   ],
   "source": [
    "plt.figure(figsize = (10,6))\n",
    "\n",
    "plt.scatter(range(1,e+1), history_dict['accuracy'], label = \"Training Accuracy\")\n",
    "plt.scatter(range(1,e+1), history_dict['val_accuracy'], label = \"Validation Set Accuracy\")\n",
    "\n",
    "plt.xlabel(\"Epoch\", fontsize=18)\n",
    "plt.ylabel(\"Accuracy\", fontsize=18)\n",
    "\n",
    "plt.xticks(fontsize=16)\n",
    "plt.yticks(fontsize=16)\n",
    "\n",
    "plt.legend(fontsize=18)\n",
    "\n",
    "plt.show()\n",
    "\n",
    "\n",
    "plt.figure(figsize = (10,6))\n",
    "\n",
    "plt.scatter(range(1,e+1), history_dict['loss'], label = \"Training Loss\")\n",
    "plt.scatter(range(1,e+1), history_dict['val_loss'], label = \"Validation Set Loss\")\n",
    "\n",
    "plt.xlabel(\"Epoch\", fontsize=18)\n",
    "plt.ylabel(\"Loss Function Value\", fontsize=18)\n",
    "\n",
    "plt.xticks(fontsize=16)\n",
    "plt.yticks(fontsize=16)\n",
    "\n",
    "plt.legend(fontsize=18)\n",
    "\n",
    "plt.show()"
   ]
  },
  {
   "cell_type": "code",
   "execution_count": 129,
   "metadata": {},
   "outputs": [
    {
     "name": "stdout",
     "output_type": "stream",
     "text": [
      "Accuracy: 1 8\n",
      "Accuracy: 2 8\n",
      "Accuracy: 3 8\n",
      "Accuracy: 4 8\n",
      "Accuracy: 5 8\n",
      "Accuracy: 6 8\n",
      "Accuracy: 7 8\n",
      "Accuracy: 8 8\n",
      "Accuracy: 9 8\n",
      "Accuracy: 10 8\n"
     ]
    }
   ],
   "source": [
    "for e in np.linspace(1, 10, num=10):\n",
    "    print('Accuracy:',int(e), 8)"
   ]
  },
  {
   "cell_type": "code",
   "execution_count": null,
   "metadata": {},
   "outputs": [],
   "source": []
  }
 ],
 "metadata": {
  "kernelspec": {
   "display_name": "Python 3",
   "language": "python",
   "name": "python3"
  },
  "language_info": {
   "codemirror_mode": {
    "name": "ipython",
    "version": 3
   },
   "file_extension": ".py",
   "mimetype": "text/x-python",
   "name": "python",
   "nbconvert_exporter": "python",
   "pygments_lexer": "ipython3",
   "version": "3.7.4"
  }
 },
 "nbformat": 4,
 "nbformat_minor": 4
}
