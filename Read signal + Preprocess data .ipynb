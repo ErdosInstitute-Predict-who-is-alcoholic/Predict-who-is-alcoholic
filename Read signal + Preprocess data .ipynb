{
 "cells": [
  {
   "cell_type": "code",
   "execution_count": 1,
   "metadata": {},
   "outputs": [],
   "source": [
    "## Import packages needed for this script\n",
    "import numpy as np\n",
    "import pandas as pd \n",
    "import mne"
   ]
  },
  {
   "cell_type": "code",
   "execution_count": 19,
   "metadata": {},
   "outputs": [],
   "source": [
    "## Importing data and preprocessing data\n",
    "data = pd.read_csv('Data/test_set.csv')\n",
    "data = data.drop(columns = ['Unnamed: 0', 'err', 'file_loc', 'trial_no']) #, 'trial_no', 'patient_no'\n",
    "data['alcoholic'] = data['alcoholic'].map({True:1, False:0})\n",
    "data['match'] = data['match'].map({'obj':0, 'nomatch':1, 'match':2})"
   ]
  },
  {
   "cell_type": "code",
   "execution_count": 21,
   "metadata": {},
   "outputs": [
    {
     "data": {
      "text/html": [
       "<div>\n",
       "<style scoped>\n",
       "    .dataframe tbody tr th:only-of-type {\n",
       "        vertical-align: middle;\n",
       "    }\n",
       "\n",
       "    .dataframe tbody tr th {\n",
       "        vertical-align: top;\n",
       "    }\n",
       "\n",
       "    .dataframe thead th {\n",
       "        text-align: right;\n",
       "    }\n",
       "</style>\n",
       "<table border=\"1\" class=\"dataframe\">\n",
       "  <thead>\n",
       "    <tr style=\"text-align: right;\">\n",
       "      <th></th>\n",
       "      <th>sample</th>\n",
       "      <th>AF1</th>\n",
       "      <th>AF2</th>\n",
       "      <th>AF7</th>\n",
       "      <th>AF8</th>\n",
       "      <th>AFZ</th>\n",
       "      <th>C1</th>\n",
       "      <th>C2</th>\n",
       "      <th>C3</th>\n",
       "      <th>C4</th>\n",
       "      <th>...</th>\n",
       "      <th>T7</th>\n",
       "      <th>T8</th>\n",
       "      <th>TP7</th>\n",
       "      <th>TP8</th>\n",
       "      <th>X</th>\n",
       "      <th>Y</th>\n",
       "      <th>nd</th>\n",
       "      <th>alcoholic</th>\n",
       "      <th>match</th>\n",
       "      <th>patient_no</th>\n",
       "    </tr>\n",
       "  </thead>\n",
       "  <tbody>\n",
       "    <tr>\n",
       "      <th>0</th>\n",
       "      <td>0</td>\n",
       "      <td>-6.083</td>\n",
       "      <td>-7.640</td>\n",
       "      <td>-0.682</td>\n",
       "      <td>6.460</td>\n",
       "      <td>-4.710</td>\n",
       "      <td>7.762</td>\n",
       "      <td>-0.773</td>\n",
       "      <td>24.017</td>\n",
       "      <td>-2.319</td>\n",
       "      <td>...</td>\n",
       "      <td>-7.741</td>\n",
       "      <td>-8.921</td>\n",
       "      <td>-1.862</td>\n",
       "      <td>1.760</td>\n",
       "      <td>-2.441</td>\n",
       "      <td>-5.341</td>\n",
       "      <td>-3.560</td>\n",
       "      <td>1</td>\n",
       "      <td>0</td>\n",
       "      <td>co2a0000364</td>\n",
       "    </tr>\n",
       "    <tr>\n",
       "      <th>1</th>\n",
       "      <td>1</td>\n",
       "      <td>-4.618</td>\n",
       "      <td>-9.593</td>\n",
       "      <td>0.295</td>\n",
       "      <td>2.065</td>\n",
       "      <td>-3.733</td>\n",
       "      <td>-7.375</td>\n",
       "      <td>-0.285</td>\n",
       "      <td>-21.881</td>\n",
       "      <td>0.610</td>\n",
       "      <td>...</td>\n",
       "      <td>-6.276</td>\n",
       "      <td>-7.456</td>\n",
       "      <td>-3.326</td>\n",
       "      <td>1.272</td>\n",
       "      <td>-4.395</td>\n",
       "      <td>-5.341</td>\n",
       "      <td>-4.537</td>\n",
       "      <td>1</td>\n",
       "      <td>0</td>\n",
       "      <td>co2a0000364</td>\n",
       "    </tr>\n",
       "    <tr>\n",
       "      <th>2</th>\n",
       "      <td>2</td>\n",
       "      <td>-2.177</td>\n",
       "      <td>-7.151</td>\n",
       "      <td>-1.170</td>\n",
       "      <td>-5.259</td>\n",
       "      <td>-1.292</td>\n",
       "      <td>-2.981</td>\n",
       "      <td>1.180</td>\n",
       "      <td>-3.815</td>\n",
       "      <td>2.075</td>\n",
       "      <td>...</td>\n",
       "      <td>-2.370</td>\n",
       "      <td>-4.527</td>\n",
       "      <td>-2.838</td>\n",
       "      <td>-0.682</td>\n",
       "      <td>-4.883</td>\n",
       "      <td>-4.364</td>\n",
       "      <td>-5.025</td>\n",
       "      <td>1</td>\n",
       "      <td>0</td>\n",
       "      <td>co2a0000364</td>\n",
       "    </tr>\n",
       "    <tr>\n",
       "      <th>3</th>\n",
       "      <td>3</td>\n",
       "      <td>1.241</td>\n",
       "      <td>0.173</td>\n",
       "      <td>-3.611</td>\n",
       "      <td>-8.189</td>\n",
       "      <td>1.638</td>\n",
       "      <td>2.391</td>\n",
       "      <td>1.668</td>\n",
       "      <td>-5.280</td>\n",
       "      <td>-1.343</td>\n",
       "      <td>...</td>\n",
       "      <td>1.048</td>\n",
       "      <td>-2.574</td>\n",
       "      <td>-1.862</td>\n",
       "      <td>-2.635</td>\n",
       "      <td>-2.441</td>\n",
       "      <td>-3.876</td>\n",
       "      <td>-3.560</td>\n",
       "      <td>1</td>\n",
       "      <td>0</td>\n",
       "      <td>co2a0000364</td>\n",
       "    </tr>\n",
       "    <tr>\n",
       "      <th>4</th>\n",
       "      <td>4</td>\n",
       "      <td>2.706</td>\n",
       "      <td>8.962</td>\n",
       "      <td>-5.564</td>\n",
       "      <td>-4.283</td>\n",
       "      <td>4.079</td>\n",
       "      <td>2.391</td>\n",
       "      <td>1.180</td>\n",
       "      <td>0.580</td>\n",
       "      <td>-1.343</td>\n",
       "      <td>...</td>\n",
       "      <td>0.071</td>\n",
       "      <td>-3.062</td>\n",
       "      <td>-0.885</td>\n",
       "      <td>-3.611</td>\n",
       "      <td>0.488</td>\n",
       "      <td>-3.876</td>\n",
       "      <td>-0.631</td>\n",
       "      <td>1</td>\n",
       "      <td>0</td>\n",
       "      <td>co2a0000364</td>\n",
       "    </tr>\n",
       "  </tbody>\n",
       "</table>\n",
       "<p>5 rows × 68 columns</p>\n",
       "</div>"
      ],
      "text/plain": [
       "   sample    AF1    AF2    AF7    AF8    AFZ     C1     C2      C3     C4  \\\n",
       "0       0 -6.083 -7.640 -0.682  6.460 -4.710  7.762 -0.773  24.017 -2.319   \n",
       "1       1 -4.618 -9.593  0.295  2.065 -3.733 -7.375 -0.285 -21.881  0.610   \n",
       "2       2 -2.177 -7.151 -1.170 -5.259 -1.292 -2.981  1.180  -3.815  2.075   \n",
       "3       3  1.241  0.173 -3.611 -8.189  1.638  2.391  1.668  -5.280 -1.343   \n",
       "4       4  2.706  8.962 -5.564 -4.283  4.079  2.391  1.180   0.580 -1.343   \n",
       "\n",
       "   ...     T7     T8    TP7    TP8      X      Y     nd  alcoholic  match  \\\n",
       "0  ... -7.741 -8.921 -1.862  1.760 -2.441 -5.341 -3.560          1      0   \n",
       "1  ... -6.276 -7.456 -3.326  1.272 -4.395 -5.341 -4.537          1      0   \n",
       "2  ... -2.370 -4.527 -2.838 -0.682 -4.883 -4.364 -5.025          1      0   \n",
       "3  ...  1.048 -2.574 -1.862 -2.635 -2.441 -3.876 -3.560          1      0   \n",
       "4  ...  0.071 -3.062 -0.885 -3.611  0.488 -3.876 -0.631          1      0   \n",
       "\n",
       "    patient_no  \n",
       "0  co2a0000364  \n",
       "1  co2a0000364  \n",
       "2  co2a0000364  \n",
       "3  co2a0000364  \n",
       "4  co2a0000364  \n",
       "\n",
       "[5 rows x 68 columns]"
      ]
     },
     "execution_count": 21,
     "metadata": {},
     "output_type": "execute_result"
    }
   ],
   "source": [
    "new_cols = [col for col in data.columns if col != 'patient_no'] + ['patient_no']\n",
    "data = data[new_cols]\n",
    "data.head()"
   ]
  },
  {
   "cell_type": "code",
   "execution_count": 22,
   "metadata": {},
   "outputs": [],
   "source": [
    "## Importing data and preprocessing data\n",
    "# data = pd.read_csv('Data/test_set.csv')\n",
    "# data = data.drop(columns = ['Unnamed: 0', 'err', 'file_loc', 'trial_no']) #, 'trial_no', 'patient_no'\n",
    "# data['alcoholic'] = data['alcoholic'].map({True:1, False:0})\n",
    "# data['match'] = data['match'].map({'obj':0, 'nomatch':1, 'match':2})\n",
    "\n",
    "## Separate data between alcoholic and control\n",
    "alcoholic = data[data['alcoholic']==True]\n",
    "control = data[data['alcoholic']==False ]\n",
    "\n",
    "alcoholic = alcoholic.drop(columns=['alcoholic'])\n",
    "control = control.drop(columns=['alcoholic'])"
   ]
  },
  {
   "cell_type": "code",
   "execution_count": 23,
   "metadata": {},
   "outputs": [],
   "source": [
    "## Setting channels and frequency for MNE \n",
    "ch_names = ['AF1', 'AF2', 'AF7', 'AF8', 'AFZ', 'C1', 'C2', 'C3', 'C4',\n",
    "       'C5', 'C6', 'CP1', 'CP2', 'CP3', 'CP4', 'CP5', 'CP6', 'CPZ', 'CZ', 'F1',\n",
    "       'F2', 'F3', 'F4', 'F5', 'F6', 'F7', 'F8', 'FC1', 'FC2', 'FC3', 'FC4',\n",
    "       'FC5', 'FC6', 'FCZ', 'FP1', 'FP2', 'FPZ', 'FT7', 'FT8', 'FZ', 'O1',\n",
    "       'O2', 'OZ', 'P1', 'P2', 'P3', 'P4', 'P5', 'P6', 'P7', 'P8', 'PO1',\n",
    "       'PO2', 'PO7', 'PO8', 'POZ', 'PZ', 'T7', 'T8', 'TP7', 'TP8', 'X', 'Y',\n",
    "       'nd']\n",
    "\n",
    "sfreq = 256 #Hz"
   ]
  },
  {
   "cell_type": "code",
   "execution_count": 24,
   "metadata": {},
   "outputs": [],
   "source": [
    "def read_data(data):\n",
    "    ## Setting data\n",
    "    info = mne.create_info(ch_names=ch_names, sfreq=sfreq, ch_types='eeg')\n",
    "    raw = mne.io.RawArray(data.transpose().iloc[1:-1], info) #Transpose data\n",
    "    \n",
    "    ## Adding Stimulus to data\n",
    "    info = mne.create_info(['STI'], raw.info['sfreq'], ['stim']) \n",
    "    stim_raw = mne.io.RawArray(data.transpose().iloc[-1:], info) #Transpose data\n",
    "    raw.add_channels([stim_raw], force_update_info=True) #\n",
    "\n",
    "    ## Filtering data\n",
    "    raw.filter(l_freq=0, h_freq=40, picks=ch_names)\n",
    "    \n",
    "    ## Epochs\n",
    "    epochs = mne.make_fixed_length_epochs(raw, duration=1)\n",
    "\n",
    "    array = epochs.get_data()\n",
    "    \n",
    "    \n",
    "    return array"
   ]
  },
  {
   "cell_type": "code",
   "execution_count": null,
   "metadata": {},
   "outputs": [],
   "source": [
    "%%capture\n",
    "a = read_data(control.iloc[:,:-1])"
   ]
  },
  {
   "cell_type": "code",
   "execution_count": null,
   "metadata": {},
   "outputs": [],
   "source": [
    "a.info"
   ]
  },
  {
   "cell_type": "code",
   "execution_count": null,
   "metadata": {},
   "outputs": [],
   "source": [
    "a.shape #no of events, no of channels (including stimulus), no_times\n",
    "# no of events = 30 trials  x 10 patients in the control group "
   ]
  },
  {
   "cell_type": "code",
   "execution_count": 25,
   "metadata": {},
   "outputs": [],
   "source": [
    "control_patients = [patient for patient in control.patient_no.unique()]\n",
    "alcoholic_patients = [patient for patient in alcoholic.patient_no.unique()]"
   ]
  },
  {
   "cell_type": "code",
   "execution_count": 26,
   "metadata": {},
   "outputs": [],
   "source": [
    "%%capture\n",
    "control_epochs_array = []\n",
    "for patient in control_patients:\n",
    "    control_epochs_array.append(read_data(control[control.patient_no==patient].iloc[:,:-1]))\n",
    "    \n",
    "alcoholic_epochs_array = []\n",
    "for patient in alcoholic_patients:\n",
    "    alcoholic_epochs_array.append(read_data(alcoholic[alcoholic.patient_no==patient].iloc[:,:-1]))"
   ]
  },
  {
   "cell_type": "code",
   "execution_count": 27,
   "metadata": {},
   "outputs": [
    {
     "data": {
      "text/plain": [
       "(30, 65, 256)"
      ]
     },
     "execution_count": 27,
     "metadata": {},
     "output_type": "execute_result"
    }
   ],
   "source": [
    "alcoholic_epochs_array[0].shape\n",
    "#no of events (trails), no of channels (including stimulus), no_times"
   ]
  },
  {
   "cell_type": "code",
   "execution_count": 28,
   "metadata": {},
   "outputs": [
    {
     "data": {
      "text/plain": [
       "(10, 10)"
      ]
     },
     "execution_count": 28,
     "metadata": {},
     "output_type": "execute_result"
    }
   ],
   "source": [
    "## Assign labels (y)\n",
    "control_epoch_labels = [len(i)*[0] for i in control_epochs_array]\n",
    "alcoholic_epoch_labels = [len(i)*[1] for i in alcoholic_epochs_array]\n",
    "\n",
    "len(control_epoch_labels), len(alcoholic_epoch_labels)"
   ]
  },
  {
   "cell_type": "code",
   "execution_count": 29,
   "metadata": {},
   "outputs": [],
   "source": [
    "data_list = control_epochs_array + alcoholic_epochs_array\n",
    "label_list = control_epoch_labels + alcoholic_epoch_labels"
   ]
  },
  {
   "cell_type": "code",
   "execution_count": 30,
   "metadata": {},
   "outputs": [
    {
     "data": {
      "text/plain": [
       "20"
      ]
     },
     "execution_count": 30,
     "metadata": {},
     "output_type": "execute_result"
    }
   ],
   "source": [
    "group_list = [[i]*len(j) for i,j in enumerate(data_list)]\n",
    "len(group_list) #Total patients (control+alcoholic)"
   ]
  },
  {
   "cell_type": "code",
   "execution_count": 31,
   "metadata": {},
   "outputs": [
    {
     "name": "stdout",
     "output_type": "stream",
     "text": [
      "(600, 65, 256) (600,) (600,)\n"
     ]
    }
   ],
   "source": [
    "data_array = np.vstack(data_list) #Processed signal \n",
    "label_array = np.hstack(label_list) #label Al, C \n",
    "group_array = np.hstack(group_list) \n",
    "\n",
    "print(data_array.shape, label_array.shape, group_array.shape)"
   ]
  },
  {
   "cell_type": "code",
   "execution_count": 32,
   "metadata": {},
   "outputs": [],
   "source": [
    "## Save arrays\n",
    "np.save('Data/data_array_t.npy', data_array) \n",
    "np.save('Data/label_array_t.npy', label_array)\n",
    "np.save('Data/group_array_t.npy', group_array)"
   ]
  },
  {
   "cell_type": "code",
   "execution_count": 33,
   "metadata": {},
   "outputs": [
    {
     "ename": "NameError",
     "evalue": "name 'epochs' is not defined",
     "output_type": "error",
     "traceback": [
      "\u001b[1;31m---------------------------------------------------------------------------\u001b[0m",
      "\u001b[1;31mNameError\u001b[0m                                 Traceback (most recent call last)",
      "\u001b[1;32m~\\AppData\\Local\\Temp/ipykernel_5344/1599786966.py\u001b[0m in \u001b[0;36m<module>\u001b[1;34m\u001b[0m\n\u001b[1;32m----> 1\u001b[1;33m \u001b[0mepochs_times\u001b[0m \u001b[1;33m=\u001b[0m \u001b[0mepochs\u001b[0m\u001b[1;33m.\u001b[0m\u001b[0mtimes\u001b[0m\u001b[1;33m\u001b[0m\u001b[1;33m\u001b[0m\u001b[0m\n\u001b[0m\u001b[0;32m      2\u001b[0m \u001b[0mnp\u001b[0m\u001b[1;33m.\u001b[0m\u001b[0msave\u001b[0m\u001b[1;33m(\u001b[0m\u001b[1;34m'Data/epochs_times_t'\u001b[0m\u001b[1;33m,\u001b[0m \u001b[0mepochs_times\u001b[0m\u001b[1;33m)\u001b[0m\u001b[1;33m\u001b[0m\u001b[1;33m\u001b[0m\u001b[0m\n",
      "\u001b[1;31mNameError\u001b[0m: name 'epochs' is not defined"
     ]
    }
   ],
   "source": [
    "epochs_times = epochs.times\n",
    "np.save('Data/epochs_times_t', epochs_times)"
   ]
  },
  {
   "cell_type": "code",
   "execution_count": null,
   "metadata": {},
   "outputs": [],
   "source": []
  }
 ],
 "metadata": {
  "kernelspec": {
   "display_name": "Python 3 (ipykernel)",
   "language": "python",
   "name": "python3"
  },
  "language_info": {
   "codemirror_mode": {
    "name": "ipython",
    "version": 3
   },
   "file_extension": ".py",
   "mimetype": "text/x-python",
   "name": "python",
   "nbconvert_exporter": "python",
   "pygments_lexer": "ipython3",
   "version": "3.9.7"
  }
 },
 "nbformat": 4,
 "nbformat_minor": 4
}
